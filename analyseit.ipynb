{
 "cells": [
  {
   "cell_type": "code",
   "execution_count": null,
   "metadata": {},
   "outputs": [
    {
     "name": "stdout",
     "output_type": "stream",
     "text": [
      "1811 {1: 79, 0: 1732} 99 {0: 612, 1: 694, 4: 229, 2: 108, 6: 165, 3: 3}\n"
     ]
    }
   ],
   "source": [
    "import pandas as pd\n",
    "df=pd.read_csv('ipl_2024_deliveries.csv')\n",
    "# RCB Data\n",
    "index=0\n",
    "rcbballs=0\n",
    "\n",
    "freqdict={}\n",
    "extradict={}\n",
    "wicket=0\n",
    "while index<len(df):\n",
    "    if df.loc[index,'batting_team']=='RCB':\n",
    "        rcbballs+=1\n",
    "        run=df.loc[index,'runs_of_bat']+df.loc[index,'legbyes']+df.loc[index,'byes']\n",
    "        extras=df.loc[index,'wide']+df.loc[index,'noballs']\n",
    "        if pd.notna(df.loc[index, 'wicket_type']):\n",
    "            wicket+=1\n",
    "        if run in freqdict:\n",
    "            freqdict[run]+=1\n",
    "        else:\n",
    "            freqdict[run]=1\n",
    "        if extras in extradict:\n",
    "            extradict[extras]+=1\n",
    "        else:\n",
    "            extradict[extras]=1\n",
    "    index+=1\n",
    "\n",
    "print(rcbballs,extradict,wicket,freqdict)"
   ]
  },
  {
   "cell_type": "code",
   "execution_count": null,
   "metadata": {},
   "outputs": [
    {
     "name": "stdout",
     "output_type": "stream",
     "text": [
      "1685 {0: 1608, 1: 77} 96 {0: 648, 1: 592, 4: 215, 6: 133, 2: 93, 3: 4}\n"
     ]
    }
   ],
   "source": [
    "# MI Data\n",
    "index=0\n",
    "miballs=0\n",
    "\n",
    "freqdict={}\n",
    "extradict={}\n",
    "wicket=0\n",
    "while index<len(df):\n",
    "    if df.loc[index,'batting_team']=='MI':\n",
    "        miballs+=1\n",
    "        run=df.loc[index,'runs_of_bat']+df.loc[index,'legbyes']+df.loc[index,'byes']\n",
    "        extras=df.loc[index,'wide']+df.loc[index,'noballs']\n",
    "        if pd.notna(df.loc[index, 'wicket_type']):\n",
    "            wicket+=1\n",
    "        if run in freqdict:\n",
    "            freqdict[run]+=1\n",
    "        else:\n",
    "            freqdict[run]=1\n",
    "        if extras in extradict:\n",
    "            extradict[extras]+=1\n",
    "        else:\n",
    "            extradict[extras]=1\n",
    "    index+=1\n",
    "print(miballs,extradict,wicket,freqdict)"
   ]
  },
  {
   "cell_type": "code",
   "execution_count": null,
   "metadata": {},
   "outputs": [],
   "source": [
    "# RCB Probabilities\n",
    "import numpy as np\n",
    "\n",
    "# Define the distributions\n",
    "rcbruns = {0: 612, 1: 694, 4: 229, 2: 108, 6: 165, 3: 3}\n",
    "rcbextras = {1: 79, 0: 1732}\n",
    "rcbwickets = {1: 99, 0: 1712}\n",
    "\n",
    "# Create a random variable function for each distribution\n",
    "def create_random_variable(distribution):\n",
    "    values = list(distribution.keys())\n",
    "    probabilities = np.array(list(distribution.values()), dtype=float)\n",
    "    probabilities /= probabilities.sum()  # Normalize to sum to 1\n",
    "    return lambda: np.random.choice(values, p=probabilities)\n",
    "\n",
    "# Instantiate random variables\n",
    "rcbruns_rv = create_random_variable(rcbruns)\n",
    "rcbextras_rv = create_random_variable(rcbextras)\n",
    "rcbwickets_rv = create_random_variable(rcbwickets)\n",
    "\n",
    "\n"
   ]
  },
  {
   "cell_type": "code",
   "execution_count": null,
   "metadata": {},
   "outputs": [],
   "source": [
    "miruns = {0: 648, 1: 592, 4: 215, 6: 133, 2: 93, 3: 4}\n",
    "miextras = {0: 1608, 1: 77}\n",
    "miwickets = {1: 96, 0: 1685-96}\n",
    "\n",
    "# Create a random variable function for each distribution\n",
    "def create_random_variable(distribution):\n",
    "    values = list(distribution.keys())\n",
    "    probabilities = np.array(list(distribution.values()), dtype=float)\n",
    "    probabilities /= probabilities.sum()  # Normalize to sum to 1\n",
    "    return lambda: np.random.choice(values, p=probabilities)\n",
    "\n",
    "# Instantiate random variables\n",
    "miruns_rv = create_random_variable(miruns)\n",
    "miextras_rv = create_random_variable(miextras)\n",
    "miwickets_rv = create_random_variable(miwickets)"
   ]
  },
  {
   "cell_type": "code",
   "execution_count": null,
   "metadata": {},
   "outputs": [],
   "source": [
    "toss=np.random.choice(['RCB','MI'])\n",
    "if toss=='RCB':\n",
    "    other='MI'\n",
    "    balls=rcbballs\n",
    "    runs_rv=rcbruns_rv\n",
    "    extras_rv=rcbextras_rv\n",
    "    wickets_rv=rcbwickets_rv\n",
    "else:\n",
    "    other='RCB'\n",
    "    balls=miballs\n",
    "    runs_rv=miruns_rv\n",
    "    extras_rv=miextras_rv\n",
    "    wickets_rv=miwickets_rv\n",
    "#first inning sim:\n",
    "runs=0\n",
    "wickets=0\n",
    "balls=0\n",
    "while balls<120 and wickets<10:\n",
    "    extras=extras_rv()\n",
    "    if extras==1:\n",
    "        continue\n",
    "    balls+=1\n",
    "    run = runs_rv()\n",
    "    runs+=run\n",
    "    wickets+=wickets_rv()\n",
    "print(f'{toss}',runs,wickets,balls)\n",
    "target=runs+1\n",
    "print(f'Target:{target}')\n",
    "#second inning sim:\n",
    "sruns=0\n",
    "swickets=0\n",
    "sballs=0\n",
    "if toss=='RCB':\n",
    "    balls=miballs\n",
    "    runs_rv=miruns_rv\n",
    "    extras_rv=miextras_rv\n",
    "    wickets_rv=miwickets_rv\n",
    "else:\n",
    "    balls=rcbballs\n",
    "    runs_rv=rcbruns_rv\n",
    "    extras_rv=rcbextras_rv\n",
    "    wickets_rv=rcbwickets_rv\n",
    "while sballs<120 and swickets<10 and sruns<target:\n",
    "    extras=extras_rv()\n",
    "    if extras==1:\n",
    "        continue\n",
    "    sballs+=1\n",
    "    run = runs_rv()\n",
    "    sruns+=run\n",
    "    swickets+=wickets_rv()\n",
    "print(f'{other}',sruns,swickets,sballs)\n",
    "\n",
    "if sruns>runs:\n",
    "    print(f'{other} won by {10-swickets} wickets')\n",
    "elif sruns<runs:\n",
    "    print(f'{toss} won by {runs-sruns} runs')\n",
    "else:\n",
    "    print('Match tied')"
   ]
  }
 ],
 "metadata": {
  "kernelspec": {
   "display_name": "Python 3",
   "language": "python",
   "name": "python3"
  },
  "language_info": {
   "codemirror_mode": {
    "name": "ipython",
    "version": 3
   },
   "file_extension": ".py",
   "mimetype": "text/x-python",
   "name": "python",
   "nbconvert_exporter": "python",
   "pygments_lexer": "ipython3",
   "version": "3.10.12"
  }
 },
 "nbformat": 4,
 "nbformat_minor": 2
}
